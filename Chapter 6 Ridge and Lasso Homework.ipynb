{
 "cells": [
  {
   "cell_type": "markdown",
   "metadata": {},
   "source": [
    "# Applied Homework\n"
   ]
  },
  {
   "cell_type": "code",
   "execution_count": 2,
   "metadata": {},
   "outputs": [],
   "source": [
    "import numpy as np\n",
    "import pandas as pd\n",
    "import seaborn as sns\n",
    "import statsmodels.api as sm\n",
    "import matplotlib.pyplot as plt\n",
    "from sklearn import linear_model\n",
    "import itertools\n",
    "from IPython.display import display, HTML\n",
    "from sklearn.linear_model import Ridge, RidgeCV, Lasso, LassoCV\n",
    "import sklearn.metrics as metrics\n",
    "\n",
    "dir='/Users/shuya/Documents/DS/MachineLearning/Statistical Learning/Data/'\n",
    "\n",
    "import warnings\n",
    "warnings.filterwarnings('ignore')"
   ]
  },
  {
   "cell_type": "markdown",
   "metadata": {},
   "source": [
    "## Question 8\n",
    "\n",
    "\n",
    "8(a) Generate a normally distributed predictor X of length n = 100, as well as a noise vector ε of length n = 100."
   ]
  },
  {
   "cell_type": "code",
   "execution_count": 3,
   "metadata": {},
   "outputs": [],
   "source": [
    "mu,sigma = 0,1\n",
    "x = np.random.normal(mu,sigma,100)\n",
    "noise = np.random.normal(mu,sigma,100)"
   ]
  },
  {
   "cell_type": "markdown",
   "metadata": {},
   "source": [
    "8(b)Generate a response vector Y of length n = 100 according to the model"
   ]
  },
  {
   "cell_type": "code",
   "execution_count": 3,
   "metadata": {},
   "outputs": [
    {
     "data": {
      "text/plain": [
       "<matplotlib.axes._subplots.AxesSubplot at 0x1c20e8bba8>"
      ]
     },
     "execution_count": 3,
     "metadata": {},
     "output_type": "execute_result"
    },
    {
     "data": {
      "image/png": "[encoded data removed]",
      "text/plain": [
       "<Figure size 432x288 with 1 Axes>"
      ]
     },
     "metadata": {
      "needs_background": "light"
     },
     "output_type": "display_data"
    }
   ],
   "source": [
    "beta1,beta2,beta3=1,2,3\n",
    "y = beta1*x+beta2*(x**2)+beta3*(x**3)+noise\n",
    "\n",
    "#Visualize the relationship between x and y\n",
    "sns.regplot(x=x,y=y)"
   ]
  },
  {
   "cell_type": "markdown",
   "metadata": {},
   "source": [
    "(c) Perform best subset selection in order to choose the best model containing the predictors X, X2, . . . , X10. What is the best model obtained according to Cp, BIC, and adjusted R2? Show some plots to provide evidence for your answer, and report the coefficients of the best model ob- tained. Note you will need to use the data.frame() function to create a single data set containing both X and Y ."
   ]
  },
  {
   "cell_type": "code",
   "execution_count": 4,
   "metadata": {},
   "outputs": [
    {
     "data": {
      "text/html": [
       "<div>\n",
       "<style scoped>\n",
       "    .dataframe tbody tr th:only-of-type {\n",
       "        vertical-align: middle;\n",
       "    }\n",
       "\n",
       "    .dataframe tbody tr th {\n",
       "        vertical-align: top;\n",
       "    }\n",
       "\n",
       "    .dataframe thead th {\n",
       "        text-align: right;\n",
       "    }\n",
       "</style>\n",
       "<table border=\"1\" class=\"dataframe\">\n",
       "  <thead>\n",
       "    <tr style=\"text-align: right;\">\n",
       "      <th></th>\n",
       "      <th>x</th>\n",
       "      <th>y</th>\n",
       "      <th>x^2</th>\n",
       "      <th>x^3</th>\n",
       "      <th>x^4</th>\n",
       "      <th>x^5</th>\n",
       "      <th>x^6</th>\n",
       "      <th>x^7</th>\n",
       "      <th>x^8</th>\n",
       "      <th>x^9</th>\n",
       "      <th>x^10</th>\n",
       "    </tr>\n",
       "  </thead>\n",
       "  <tbody>\n",
       "    <tr>\n",
       "      <th>0</th>\n",
       "      <td>0.847348</td>\n",
       "      <td>2.287577</td>\n",
       "      <td>0.717999</td>\n",
       "      <td>0.608395</td>\n",
       "      <td>0.515523</td>\n",
       "      <td>4.368274e-01</td>\n",
       "      <td>3.701450e-01</td>\n",
       "      <td>3.136417e-01</td>\n",
       "      <td>2.657638e-01</td>\n",
       "      <td>2.251945e-01</td>\n",
       "      <td>1.908182e-01</td>\n",
       "    </tr>\n",
       "    <tr>\n",
       "      <th>1</th>\n",
       "      <td>0.729922</td>\n",
       "      <td>2.610515</td>\n",
       "      <td>0.532786</td>\n",
       "      <td>0.388893</td>\n",
       "      <td>0.283861</td>\n",
       "      <td>2.071968e-01</td>\n",
       "      <td>1.512375e-01</td>\n",
       "      <td>1.103916e-01</td>\n",
       "      <td>8.057731e-02</td>\n",
       "      <td>5.881517e-02</td>\n",
       "      <td>4.293050e-02</td>\n",
       "    </tr>\n",
       "    <tr>\n",
       "      <th>2</th>\n",
       "      <td>1.775921</td>\n",
       "      <td>25.507168</td>\n",
       "      <td>3.153897</td>\n",
       "      <td>5.601074</td>\n",
       "      <td>9.947067</td>\n",
       "      <td>1.766521e+01</td>\n",
       "      <td>3.137202e+01</td>\n",
       "      <td>5.571425e+01</td>\n",
       "      <td>9.894414e+01</td>\n",
       "      <td>1.757170e+02</td>\n",
       "      <td>3.120596e+02</td>\n",
       "    </tr>\n",
       "    <tr>\n",
       "      <th>3</th>\n",
       "      <td>0.329460</td>\n",
       "      <td>-1.205858</td>\n",
       "      <td>0.108544</td>\n",
       "      <td>0.035761</td>\n",
       "      <td>0.011782</td>\n",
       "      <td>3.881608e-03</td>\n",
       "      <td>1.278833e-03</td>\n",
       "      <td>4.213241e-04</td>\n",
       "      <td>1.388093e-04</td>\n",
       "      <td>4.573208e-05</td>\n",
       "      <td>1.506688e-05</td>\n",
       "    </tr>\n",
       "    <tr>\n",
       "      <th>4</th>\n",
       "      <td>0.048572</td>\n",
       "      <td>0.868252</td>\n",
       "      <td>0.002359</td>\n",
       "      <td>0.000115</td>\n",
       "      <td>0.000006</td>\n",
       "      <td>2.703605e-07</td>\n",
       "      <td>1.313203e-08</td>\n",
       "      <td>6.378531e-10</td>\n",
       "      <td>3.098199e-11</td>\n",
       "      <td>1.504866e-12</td>\n",
       "      <td>7.309482e-14</td>\n",
       "    </tr>\n",
       "  </tbody>\n",
       "</table>\n",
       "</div>"
      ],
      "text/plain": [
       "          x          y       x^2       x^3       x^4           x^5  \\\n",
       "0  0.847348   2.287577  0.717999  0.608395  0.515523  4.368274e-01   \n",
       "1  0.729922   2.610515  0.532786  0.388893  0.283861  2.071968e-01   \n",
       "2  1.775921  25.507168  3.153897  5.601074  9.947067  1.766521e+01   \n",
       "3  0.329460  -1.205858  0.108544  0.035761  0.011782  3.881608e-03   \n",
       "4  0.048572   0.868252  0.002359  0.000115  0.000006  2.703605e-07   \n",
       "\n",
       "            x^6           x^7           x^8           x^9          x^10  \n",
       "0  3.701450e-01  3.136417e-01  2.657638e-01  2.251945e-01  1.908182e-01  \n",
       "1  1.512375e-01  1.103916e-01  8.057731e-02  5.881517e-02  4.293050e-02  \n",
       "2  3.137202e+01  5.571425e+01  9.894414e+01  1.757170e+02  3.120596e+02  \n",
       "3  1.278833e-03  4.213241e-04  1.388093e-04  4.573208e-05  1.506688e-05  \n",
       "4  1.313203e-08  6.378531e-10  3.098199e-11  1.504866e-12  7.309482e-14  "
      ]
     },
     "execution_count": 4,
     "metadata": {},
     "output_type": "execute_result"
    }
   ],
   "source": [
    "#Construct dataset with X to X^10\n",
    "reg_data = pd.DataFrame(np.c_[x,y],columns=['x','y'])\n",
    "for i in range(2,11,1):\n",
    "    reg_data['x^'+str(i)] = reg_data['x'].apply(lambda x:x**i)\n",
    "    \n",
    "reg_data.head()"
   ]
  },
  {
   "cell_type": "code",
   "execution_count": 57,
   "metadata": {},
   "outputs": [
    {
     "data": {
      "text/plain": [
       "(100, 10)"
      ]
     },
     "execution_count": 57,
     "metadata": {},
     "output_type": "execute_result"
    }
   ],
   "source": [
    "X = reg_data.drop(['y'],axis=1)\n",
    "X.shape"
   ]
  },
  {
   "cell_type": "code",
   "execution_count": 7,
   "metadata": {},
   "outputs": [],
   "source": [
    "def subset_reg(X,y,k):\n",
    "    X_combos = itertools.combinations(list(X.columns), k)\n",
    "    max_rsquare=0\n",
    "    min_bic=99999999\n",
    "    min_aic=99999999\n",
    "    \n",
    "    for combo in X_combos:\n",
    "        X_new=X[list(combo)]\n",
    "        model=sm.OLS(y,sm.add_constant(X_new)).fit()\n",
    "        if model.rsquared_adj>max_rsquare:\n",
    "            max_rsquare=model.rsquared_adj\n",
    "            max_rsquare_model=model\n",
    "            \n",
    "        if model.bic<min_bic:\n",
    "            min_bic=model.bic\n",
    "            min_bic_model=model\n",
    "            \n",
    "        if model.aic<min_bic:\n",
    "            min_aic=model.bic\n",
    "            min_aic_model=model\n",
    "            \n",
    "    return {'max adj.Rsquare':max_rsquare,\n",
    "            'max adj.Rsquare model':max_rsquare_model,\n",
    "            'min BIC':min_bic,\n",
    "            'min BIC model':min_bic_model,\n",
    "            'min AIC':min_aic,\n",
    "            'min AIC model':min_aic_model\n",
    "           }\n",
    "\n"
   ]
  },
  {
   "cell_type": "code",
   "execution_count": null,
   "metadata": {},
   "outputs": [],
   "source": [
    "subset_reg(X,y,5)['min AIC model'].params"
   ]
  },
  {
   "cell_type": "code",
   "execution_count": 110,
   "metadata": {},
   "outputs": [],
   "source": [
    "adj_R=[]\n",
    "BIC=[]\n",
    "AIC=[]\n",
    "\n",
    "for i in range(1,X.shape[1]+1,1):\n",
    "    adj_R.append([i,subset_reg(X,y,i)['max adj.Rsquare']])\n",
    "    BIC.append([i,subset_reg(X,y,i)['min BIC']])\n",
    "    AIC.append([i,subset_reg(X,y,i)['min AIC']])\n",
    "\n",
    "adj_R = pd.DataFrame(adj_R,columns=['i','adj.R'])\n",
    "BIC = pd.DataFrame(BIC,columns=['i','BIC'])\n",
    "AIC = pd.DataFrame(AIC,columns=['i','AIC'])"
   ]
  },
  {
   "cell_type": "code",
   "execution_count": 117,
   "metadata": {},
   "outputs": [
    {
     "data": {
      "text/html": [
       "<h4>adj Rsquare</h4>"
      ],
      "text/plain": [
       "<IPython.core.display.HTML object>"
      ]
     },
     "metadata": {},
     "output_type": "display_data"
    },
    {
     "data": {
      "image/png": "[encoded data removed]",
      "text/plain": [
       "<Figure size 432x288 with 1 Axes>"
      ]
     },
     "metadata": {
      "needs_background": "light"
     },
     "output_type": "display_data"
    },
    {
     "data": {
      "text/html": [
       "<h4>BIC</h4>"
      ],
      "text/plain": [
       "<IPython.core.display.HTML object>"
      ]
     },
     "metadata": {},
     "output_type": "display_data"
    },
    {
     "data": {
      "image/png": "[encoded data removed]",
      "text/plain": [
       "<Figure size 432x288 with 1 Axes>"
      ]
     },
     "metadata": {
      "needs_background": "light"
     },
     "output_type": "display_data"
    },
    {
     "data": {
      "text/html": [
       "<h4>AIC</h4>"
      ],
      "text/plain": [
       "<IPython.core.display.HTML object>"
      ]
     },
     "metadata": {},
     "output_type": "display_data"
    },
    {
     "data": {
      "image/png": "[encoded data removed]",
      "text/plain": [
       "<Figure size 432x288 with 1 Axes>"
      ]
     },
     "metadata": {
      "needs_background": "light"
     },
     "output_type": "display_data"
    }
   ],
   "source": [
    "display(HTML('<h4>adj Rsquare</h4>'))\n",
    "\n",
    "plt.plot(adj_R['i'],adj_R['adj.R'])\n",
    "plt.xlabel('Number of features')\n",
    "plt.ylabel('adj.Rsquare')\n",
    "plt.show()\n",
    "\n",
    "display(HTML('<h4>BIC</h4>'))\n",
    "\n",
    "plt.plot(BIC['i'],BIC['BIC'])\n",
    "plt.xlabel('Number of features')\n",
    "plt.ylabel('BIC')\n",
    "plt.show()\n",
    "\n",
    "display(HTML('<h4>AIC</h4>'))\n",
    "\n",
    "plt.plot(AIC['i'],AIC['AIC'])\n",
    "plt.xlabel('Number of features')\n",
    "plt.ylabel('AIC')\n",
    "plt.show()"
   ]
  },
  {
   "cell_type": "markdown",
   "metadata": {},
   "source": [
    "(d) Repeat (c), using forward stepwise selection and also using backwards\n",
    "stepwise selection. How does your answer compare to the\n",
    "results in (c)?\n"
   ]
  },
  {
   "cell_type": "code",
   "execution_count": 141,
   "metadata": {},
   "outputs": [
    {
     "name": "stdout",
     "output_type": "stream",
     "text": [
      "Add                               2 with p-value 3.99383e-62\n",
      "Add                               1 with p-value 4.81245e-44\n",
      "Add                               0 with p-value 9.99812e-08\n",
      "resulting features:\n",
      "[2, 1, 0]\n"
     ]
    }
   ],
   "source": [
    "X=pd.DataFrame([[x,y,z] for x,y,z in zip(x,x**2,x**3)])\n",
    "\n",
    "import statsmodels.api as sm\n",
    "def stepwise_selection(X, y, \n",
    "                       initial_list=[], \n",
    "                       threshold_in=0.01, \n",
    "                       threshold_out = 0.05, \n",
    "                       verbose=True):\n",
    "    \"\"\" Perform a forward-backward feature selection \n",
    "    based on p-value from statsmodels.api.OLS\n",
    "    Arguments:\n",
    "        X - pandas.DataFrame with candidate features\n",
    "        y - list-like with the target\n",
    "        initial_list - list of features to start with (column names of X)\n",
    "        threshold_in - include a feature if its p-value < threshold_in\n",
    "        threshold_out - exclude a feature if its p-value > threshold_out\n",
    "        verbose - whether to print the sequence of inclusions and exclusions\n",
    "    Returns: list of selected features \n",
    "    Always set threshold_in < threshold_out to avoid infinite looping.\n",
    "    \"\"\"\n",
    "    included = list(initial_list)\n",
    "    while True:\n",
    "        changed=False\n",
    "        # forward step\n",
    "        excluded = list(set(X.columns)-set(included))\n",
    "        new_pval = pd.Series(index=excluded)\n",
    "        for new_column in excluded:\n",
    "            model = sm.OLS(y, sm.add_constant(pd.DataFrame(X[included+[new_column]]))).fit()\n",
    "            new_pval[new_column] = model.pvalues[new_column]\n",
    "        best_pval = new_pval.min()\n",
    "        if best_pval < threshold_in:\n",
    "            best_feature = new_pval.idxmin()\n",
    "            included.append(best_feature)\n",
    "            changed=True\n",
    "            if verbose:\n",
    "                print('Add  {:30} with p-value {:.6}'.format(best_feature, best_pval))\n",
    "\n",
    "        # backward step\n",
    "        model = sm.OLS(y, sm.add_constant(pd.DataFrame(X[included]))).fit()\n",
    "        # use all coefs except intercept\n",
    "        pvalues = model.pvalues.iloc[1:]\n",
    "        worst_pval = pvalues.max() # null if pvalues is empty\n",
    "        if worst_pval > threshold_out:\n",
    "            changed=True\n",
    "            worst_feature = pvalues.argmax()\n",
    "            included.remove(worst_feature)\n",
    "            if verbose:\n",
    "                print('Drop {:30} with p-value {:.6}'.format(worst_feature, worst_pval))\n",
    "        if not changed:\n",
    "            break\n",
    "    return included\n",
    "\n",
    "result = stepwise_selection(X, y)\n",
    "\n",
    "print('resulting features:')\n",
    "print(result)"
   ]
  },
  {
   "cell_type": "markdown",
   "metadata": {},
   "source": [
    "(e) Now fit a lasso model to the simulated data, again using X,X2,\n",
    ". . . , X10 as predictors. Use cross-validation to select the optimal\n",
    "value of λ. Create plots of the cross-validation error as a function\n",
    "of λ. Report the resulting coefficient estimates, and discuss the\n",
    "results obtained.\n",
    "\n",
    "https://www.kaggle.com/floser/aw6-the-lasso-cross-validated"
   ]
  },
  {
   "cell_type": "code",
   "execution_count": 169,
   "metadata": {},
   "outputs": [
    {
     "name": "stdout",
     "output_type": "stream",
     "text": [
      "(50,)\n",
      "[2881.363217815752, 2881.363217815752, 2881.363217815752, 2881.363217815752, 2881.363217815752, 2881.363217815752, 2881.363217815752, 2881.363217815752, 2881.363217815752, 2881.363217815752, 2881.363217815752, 2881.363217815752, 2881.363217815752, 2881.363217815752, 2881.363217815752, 2881.363217815752, 2881.363217815752, 2881.363217815752, 2881.363217815752, 2881.363217815752, 2881.363217815752, 2881.363217815752, 2881.363217815752, 2881.363217815752, 2881.363217815752, 2881.363217815752, 2881.363217815752, 2881.363217815752, 2881.363217815752, 2881.363217815752, 2881.363217815752, 2881.363217815752, 2881.363217815752, 2881.363217815752, 2881.363217815752, 1286.226392933291, 574.5064493557342, 306.86237262089867, 169.6121506749483, 96.6923042137942, 56.484219895107486, 36.17891094187447, 26.050194745742616, 20.893764811515364, 18.201712277607406, 16.753431981549276, 15.9470002340921, 15.513771944514522, 15.334136015159888, 15.226579195290805]\n"
     ]
    },
    {
     "data": {
      "text/plain": [
       "Text(0, 0.5, 'weights')"
      ]
     },
     "execution_count": 169,
     "metadata": {},
     "output_type": "execute_result"
    },
    {
     "data": {
      "image/png": "[encoded data removed]",
      "text/plain": [
       "<Figure size 432x288 with 1 Axes>"
      ]
     },
     "metadata": {
      "needs_background": "light"
     },
     "output_type": "display_data"
    }
   ],
   "source": [
    "X=pd.DataFrame([[x1,x2,x3,x4,x5,x6,x7,x8,x9,x10] for x1,x2,x3,x4,x5,x6,x7,x8,x9,x10 \\\n",
    "                in zip(x,x**2,x**3,x**4,x**5,x**6,x**7,x**8,x**9,x**10)])\n",
    "from sklearn import model_selection\n",
    "from sklearn.linear_model import Lasso, LassoCV, Ridge, RidgeCV\n",
    "\n",
    "x_train,x_test,y_train,y_test=model_selection.train_test_split(X,y,test_size=0.2,random_state=3)\n",
    "\n",
    "alphas = 10**np.linspace(6,-2,50)*0.5\n",
    "lasso = Lasso(max_iter=10000, normalize=True)\n",
    "coef=[]\n",
    "SS_Residual=[]\n",
    "print(alphas.shape)\n",
    "\n",
    "for a in alphas:\n",
    "    lasso.set_params(alpha=a)\n",
    "    lasso.fit(x_train,y_train)\n",
    "    coef.append(lasso.coef_)\n",
    "    resid=lasso.predict(x_test)-y_test\n",
    "    SS_Residual.append(sum(resid**2))\n",
    "\n",
    "print(SS_Residual)    \n",
    "ax = plt.gca()\n",
    "ax.plot(alphas, coef)\n",
    "ax.set_xscale('log')\n",
    "plt.axis('tight')\n",
    "plt.xlabel('alpha')\n",
    "plt.ylabel('weights')"
   ]
  },
  {
   "cell_type": "markdown",
   "metadata": {},
   "source": [
    "(f) Now generate a response vector Y according to the model\n",
    "Y = β0 + β7X^7 + ϵ,\n",
    "and perform best subset selection and the lasso. Discuss the\n",
    "results obtained."
   ]
  },
  {
   "cell_type": "code",
   "execution_count": 22,
   "metadata": {
    "scrolled": true
   },
   "outputs": [
    {
     "data": {
      "text/plain": [
       "<matplotlib.collections.PathCollection at 0x1c244fee48>"
      ]
     },
     "execution_count": 22,
     "metadata": {},
     "output_type": "execute_result"
    },
    {
     "data": {
      "image/png": "[encoded data removed]",
      "text/plain": [
       "<Figure size 432x288 with 1 Axes>"
      ]
     },
     "metadata": {
      "needs_background": "light"
     },
     "output_type": "display_data"
    }
   ],
   "source": [
    "mu,sigma=0,1\n",
    "beta1,beta7=1,2\n",
    "\n",
    "x = np.random.normal(mu,sigma,100)\n",
    "noise = np.random.normal(mu,sigma,100)\n",
    "y = beta1+beta7*(x**7)+noise\n",
    "\n",
    "plt.scatter(x,y)"
   ]
  },
  {
   "cell_type": "code",
   "execution_count": 20,
   "metadata": {},
   "outputs": [
    {
     "data": {
      "text/plain": [
       "array([0, 1, 2, 3, 4, 5, 6])"
      ]
     },
     "execution_count": 20,
     "metadata": {},
     "output_type": "execute_result"
    }
   ],
   "source": [
    "np.arange(7)"
   ]
  },
  {
   "cell_type": "code",
   "execution_count": 32,
   "metadata": {},
   "outputs": [
    {
     "data": {
      "text/html": [
       "<div>\n",
       "<style scoped>\n",
       "    .dataframe tbody tr th:only-of-type {\n",
       "        vertical-align: middle;\n",
       "    }\n",
       "\n",
       "    .dataframe tbody tr th {\n",
       "        vertical-align: top;\n",
       "    }\n",
       "\n",
       "    .dataframe thead th {\n",
       "        text-align: right;\n",
       "    }\n",
       "</style>\n",
       "<table border=\"1\" class=\"dataframe\">\n",
       "  <thead>\n",
       "    <tr style=\"text-align: right;\">\n",
       "      <th></th>\n",
       "      <th>0</th>\n",
       "      <th>x^0</th>\n",
       "      <th>x^1</th>\n",
       "      <th>x^2</th>\n",
       "      <th>x^3</th>\n",
       "      <th>x^4</th>\n",
       "      <th>x^5</th>\n",
       "      <th>x^6</th>\n",
       "    </tr>\n",
       "  </thead>\n",
       "  <tbody>\n",
       "    <tr>\n",
       "      <th>0</th>\n",
       "      <td>-2.844826</td>\n",
       "      <td>1.0</td>\n",
       "      <td>-2.844826</td>\n",
       "      <td>8.093037</td>\n",
       "      <td>-2.302329e+01</td>\n",
       "      <td>6.549725e+01</td>\n",
       "      <td>-1.863283e+02</td>\n",
       "      <td>5.300717e+02</td>\n",
       "    </tr>\n",
       "    <tr>\n",
       "      <th>1</th>\n",
       "      <td>0.759667</td>\n",
       "      <td>1.0</td>\n",
       "      <td>0.759667</td>\n",
       "      <td>0.577094</td>\n",
       "      <td>4.383991e-01</td>\n",
       "      <td>3.330373e-01</td>\n",
       "      <td>2.529974e-01</td>\n",
       "      <td>1.921938e-01</td>\n",
       "    </tr>\n",
       "    <tr>\n",
       "      <th>2</th>\n",
       "      <td>-1.171460</td>\n",
       "      <td>1.0</td>\n",
       "      <td>-1.171460</td>\n",
       "      <td>1.372318</td>\n",
       "      <td>-1.607615e+00</td>\n",
       "      <td>1.883257e+00</td>\n",
       "      <td>-2.206160e+00</td>\n",
       "      <td>2.584428e+00</td>\n",
       "    </tr>\n",
       "    <tr>\n",
       "      <th>3</th>\n",
       "      <td>-0.019338</td>\n",
       "      <td>1.0</td>\n",
       "      <td>-0.019338</td>\n",
       "      <td>0.000374</td>\n",
       "      <td>-7.231851e-06</td>\n",
       "      <td>1.398511e-07</td>\n",
       "      <td>-2.704472e-09</td>\n",
       "      <td>5.229967e-11</td>\n",
       "    </tr>\n",
       "    <tr>\n",
       "      <th>4</th>\n",
       "      <td>0.003084</td>\n",
       "      <td>1.0</td>\n",
       "      <td>0.003084</td>\n",
       "      <td>0.000010</td>\n",
       "      <td>2.932502e-08</td>\n",
       "      <td>9.043109e-11</td>\n",
       "      <td>2.788671e-13</td>\n",
       "      <td>8.599568e-16</td>\n",
       "    </tr>\n",
       "  </tbody>\n",
       "</table>\n",
       "</div>"
      ],
      "text/plain": [
       "          0  x^0       x^1       x^2           x^3           x^4  \\\n",
       "0 -2.844826  1.0 -2.844826  8.093037 -2.302329e+01  6.549725e+01   \n",
       "1  0.759667  1.0  0.759667  0.577094  4.383991e-01  3.330373e-01   \n",
       "2 -1.171460  1.0 -1.171460  1.372318 -1.607615e+00  1.883257e+00   \n",
       "3 -0.019338  1.0 -0.019338  0.000374 -7.231851e-06  1.398511e-07   \n",
       "4  0.003084  1.0  0.003084  0.000010  2.932502e-08  9.043109e-11   \n",
       "\n",
       "            x^5           x^6  \n",
       "0 -1.863283e+02  5.300717e+02  \n",
       "1  2.529974e-01  1.921938e-01  \n",
       "2 -2.206160e+00  2.584428e+00  \n",
       "3 -2.704472e-09  5.229967e-11  \n",
       "4  2.788671e-13  8.599568e-16  "
      ]
     },
     "execution_count": 32,
     "metadata": {},
     "output_type": "execute_result"
    }
   ],
   "source": [
    "X = pd.DataFrame(x.copy())\n",
    "for i in np.arange(7):\n",
    "    X['x^'+str(i)] = x**i\n",
    "\n",
    "X.head()"
   ]
  },
  {
   "cell_type": "code",
   "execution_count": 38,
   "metadata": {},
   "outputs": [
    {
     "data": {
      "text/plain": [
       "{'max adj.Rsquare': 0.9991402833377621,\n",
       " 'max adj.Rsquare model': <statsmodels.regression.linear_model.RegressionResultsWrapper at 0x1c245ea7b8>,\n",
       " 'min BIC': 763.3795320919711,\n",
       " 'min BIC model': <statsmodels.regression.linear_model.RegressionResultsWrapper at 0x1c245ea438>,\n",
       " 'min AIC': 763.3795320919711,\n",
       " 'min AIC model': <statsmodels.regression.linear_model.RegressionResultsWrapper at 0x1c245ea438>}"
      ]
     },
     "execution_count": 38,
     "metadata": {},
     "output_type": "execute_result"
    }
   ],
   "source": [
    "subset_reg(X,y,7)"
   ]
  },
  {
   "cell_type": "code",
   "execution_count": 39,
   "metadata": {},
   "outputs": [
    {
     "data": {
      "text/plain": [
       "const     0.846509\n",
       "x^1      49.327009\n",
       "x^3     -75.716660\n",
       "x^5      24.438487\n",
       "dtype: float64"
      ]
     },
     "execution_count": 39,
     "metadata": {},
     "output_type": "execute_result"
    }
   ],
   "source": [
    "subset_reg(X,y,3)['min AIC model'].params"
   ]
  },
  {
   "cell_type": "code",
   "execution_count": 47,
   "metadata": {},
   "outputs": [
    {
     "data": {
      "text/plain": [
       "array([  0.        ,   0.        ,   0.        ,   3.8209004 ,\n",
       "       -17.59596138,   9.73278429,  12.93118752,  -3.00627012])"
      ]
     },
     "execution_count": 47,
     "metadata": {},
     "output_type": "execute_result"
    }
   ],
   "source": [
    "clf = Lasso(alpha=0.1, normalize=True)\n",
    "clf.fit(X,y)\n",
    "clf.coef_"
   ]
  },
  {
   "cell_type": "markdown",
   "metadata": {},
   "source": [
    "## Question 9\n",
    "\n",
    "In this exercise, we will predict the number of applications received\n",
    "using the other variables in the College data set."
   ]
  },
  {
   "cell_type": "markdown",
   "metadata": {},
   "source": [
    "(a) Split the data set into a training set and a test set."
   ]
  },
  {
   "cell_type": "code",
   "execution_count": 154,
   "metadata": {},
   "outputs": [
    {
     "name": "stdout",
     "output_type": "stream",
     "text": [
      "                              Private  Apps  Accept  Enroll  Top10perc  \\\n",
      "Abilene Christian University        1  1660    1232     721         23   \n",
      "Adelphi University                  1  2186    1924     512         16   \n",
      "Adrian College                      1  1428    1097     336         22   \n",
      "Agnes Scott College                 1   417     349     137         60   \n",
      "Alaska Pacific University           1   193     146      55         16   \n",
      "\n",
      "                              Top25perc  F.Undergrad  P.Undergrad  Outstate  \\\n",
      "Abilene Christian University         52         2885          537      7440   \n",
      "Adelphi University                   29         2683         1227     12280   \n",
      "Adrian College                       50         1036           99     11250   \n",
      "Agnes Scott College                  89          510           63     12960   \n",
      "Alaska Pacific University            44          249          869      7560   \n",
      "\n",
      "                              Room.Board  Books  Personal  PhD  Terminal  \\\n",
      "Abilene Christian University        3300    450      2200   70        78   \n",
      "Adelphi University                  6450    750      1500   29        30   \n",
      "Adrian College                      3750    400      1165   53        66   \n",
      "Agnes Scott College                 5450    450       875   92        97   \n",
      "Alaska Pacific University           4120    800      1500   76        72   \n",
      "\n",
      "                              S.F.Ratio  perc.alumni  Expend  Grad.Rate  \n",
      "Abilene Christian University       18.1           12    7041         60  \n",
      "Adelphi University                 12.2           16   10527         56  \n",
      "Adrian College                     12.9           30    8735         54  \n",
      "Agnes Scott College                 7.7           37   19016         59  \n",
      "Alaska Pacific University          11.9            2   10922         15  \n",
      "(388, 17) (389, 17) (388,) (389,) <class 'pandas.core.series.Series'>\n"
     ]
    },
    {
     "data": {
      "text/plain": [
       "(388, 17)"
      ]
     },
     "execution_count": 154,
     "metadata": {},
     "output_type": "execute_result"
    }
   ],
   "source": [
    "from sklearn.model_selection import train_test_split\n",
    "college = pd.read_csv(dir+'College.csv',index_col='Unnamed: 0')\n",
    "college.Private = college.Private.map({'Yes':1,'No':0})\n",
    "print(college.head())\n",
    "X_train,X_test,y_train,y_test=train_test_split(college.drop(['Apps'],axis=1),college['Apps'],train_size=0.5)\n",
    "print(X_train.shape, X_test.shape, y_train.shape, y_test.shape,type(y_test))\n",
    "X_train.shape"
   ]
  },
  {
   "cell_type": "markdown",
   "metadata": {},
   "source": [
    "(b) Fit a linear model using least squares on the training set, and\n",
    "report the test error obtained."
   ]
  },
  {
   "cell_type": "code",
   "execution_count": 67,
   "metadata": {},
   "outputs": [],
   "source": [
    "def subset_reg(X_train,y_train,X_test,y_test,k):\n",
    "    X_combos = itertools.combinations(list(X_train.columns), k)\n",
    "    min_mse=9999999\n",
    "    \n",
    "    for combo in X_combos:\n",
    "        X_train_new = X_train[list(combo)]\n",
    "        X_test_new = X_test[list(combo)]        \n",
    "        model = sm.OLS(y_train,sm.add_constant(X_train_new)).fit()        \n",
    "        pred = model.predict(sm.add_constant(X_test_new))       \n",
    "        mse = metrics.mean_squared_error(y_test,pred)\n",
    "    \n",
    "        if mse < min_mse:\n",
    "            min_mse=mse\n",
    "            best_model=model\n",
    "\n",
    "            \n",
    "    return {'min mse':min_mse,\n",
    "            'best model':best_model\n",
    "           }"
   ]
  },
  {
   "cell_type": "code",
   "execution_count": 135,
   "metadata": {},
   "outputs": [],
   "source": [
    "mse = []\n",
    "for i in range(1,X_train.shape[1]+1,1):\n",
    "    mse.append([i,subset_reg(X_train,y_train,X_test,y_test,i)['min mse']])\n",
    "mse_df = pd.DataFrame(mse,columns=['i','mse'])"
   ]
  },
  {
   "cell_type": "code",
   "execution_count": 138,
   "metadata": {},
   "outputs": [
    {
     "name": "stdout",
     "output_type": "stream",
     "text": [
      "     i           mse\n",
      "0    1  1.578334e+06\n",
      "1    2  1.268801e+06\n",
      "2    3  1.249164e+06\n",
      "3    4  1.247772e+06\n",
      "4    5  1.245488e+06\n",
      "5    6  1.244394e+06\n",
      "6    7  1.245730e+06\n",
      "7    8  1.246639e+06\n",
      "8    9  1.250910e+06\n",
      "9   10  1.258172e+06\n",
      "10  11  1.269936e+06\n",
      "11  12  1.272338e+06\n",
      "12  13  1.285562e+06\n",
      "13  14  1.337975e+06\n",
      "14  15  1.401283e+06\n",
      "15  16  1.455809e+06\n",
      "16  17  1.503133e+06\n"
     ]
    },
    {
     "data": {
      "image/png": "[encoded data removed]",
      "text/plain": [
       "<Figure size 432x288 with 1 Axes>"
      ]
     },
     "metadata": {
      "needs_background": "light"
     },
     "output_type": "display_data"
    }
   ],
   "source": [
    "print(mse_df)\n",
    "\n",
    "sns.lineplot(x=mse_df['i'],y=mse_df['mse'])\n",
    "plt.xlabel('Number of features')\n",
    "plt.ylabel('MSE')\n",
    "plt.show()"
   ]
  },
  {
   "cell_type": "code",
   "execution_count": 68,
   "metadata": {},
   "outputs": [
    {
     "name": "stdout",
     "output_type": "stream",
     "text": [
      "the mse is 1298034.1995682262\n",
      "the rmse is 1139.31303844388\n"
     ]
    }
   ],
   "source": [
    "#6 variable produce the smallest MSE\n",
    "\n",
    "best_subset=pd.DataFrame(subset_reg(X_train,y_train,X_test,y_test,8)['best model'].params)\n",
    "\n",
    "print('the mse is {}'.format(subset_reg(X_train,y_train,X_test,y_test,8)['min mse']))\n",
    "print('the rmse is {}'.format(np.sqrt(subset_reg(X_train,y_train,X_test,y_test,8)['min mse'])))"
   ]
  },
  {
   "cell_type": "markdown",
   "metadata": {},
   "source": [
    "(c) Fit a ridge regression model on the training set, with λ chosen\n",
    "by cross-validation. Report the test error obtained."
   ]
  },
  {
   "cell_type": "code",
   "execution_count": 194,
   "metadata": {},
   "outputs": [
    {
     "name": "stdout",
     "output_type": "stream",
     "text": [
      "[1.00000000e-10 1.71669791e-10 2.94705170e-10 5.05919749e-10\n",
      " 8.68511374e-10 1.49097166e-09 2.55954792e-09 4.39397056e-09\n",
      " 7.54312006e-09 1.29492584e-08 2.22299648e-08 3.81621341e-08\n",
      " 6.55128557e-08 1.12465782e-07 1.93069773e-07 3.31442475e-07\n",
      " 5.68986603e-07 9.76778110e-07 1.67683294e-06 2.87861559e-06\n",
      " 4.94171336e-06 8.48342898e-06 1.45634848e-05 2.50011038e-05\n",
      " 4.29193426e-05 7.36795456e-05 1.26485522e-04 2.17137430e-04\n",
      " 3.72759372e-04 6.39915234e-04 1.09854114e-03 1.88586328e-03\n",
      " 3.23745754e-03 5.55773659e-03 9.54095476e-03 1.63789371e-02\n",
      " 2.81176870e-02 4.82695744e-02 8.28642773e-02 1.42252931e-01\n",
      " 2.44205309e-01 4.19226744e-01 7.19685673e-01 1.23548289e+00\n",
      " 2.12095089e+00 3.64103195e+00 6.25055193e+00 1.07303094e+01\n",
      " 1.84206997e+01 3.16227766e+01]\n"
     ]
    }
   ],
   "source": [
    "alphas=10**np.linspace(-10,1.5,50)\n",
    "print(alphas)"
   ]
  },
  {
   "cell_type": "code",
   "execution_count": 106,
   "metadata": {},
   "outputs": [
    {
     "name": "stdout",
     "output_type": "stream",
     "text": [
      "[[0, 194], [194, 388], [388, 582], [582, 777]]\n"
     ]
    }
   ],
   "source": [
    "X.shape\n",
    "rec=np.linspace(0,X.shape[0],5,dtype=int)\n",
    "folds = [[rec[n],rec[n+1]] for n in np.arange(4)]\n",
    "X = college.drop(['Apps'],axis=1)\n",
    "print(folds)\n",
    "X.iloc[folds[0][0]:folds[0][1]]\n",
    "X_train = X.drop(X.index[folds[0][0]:folds[0][1]])\n",
    "#print(X_train)"
   ]
  },
  {
   "cell_type": "code",
   "execution_count": 130,
   "metadata": {},
   "outputs": [],
   "source": [
    "def ridge_cv(alpha, X, y, k):\n",
    "    rec = np.linspace(0,X.shape[1],k,dtype=int)\n",
    "    folds = [[rec[n],rec[n+1]] for n in np.arange(k-1)]\n",
    "    mse=[]\n",
    "    for f in folds:\n",
    "        X_test = X.iloc[f[0]:f[1]]\n",
    "        X_train = X.drop(X.index[f[0]:f[1]])\n",
    "        y_test = y.iloc[f[0]:f[1]]\n",
    "        y_train = y.drop(y.index[f[0]:f[1]])\n",
    "        rm = Ridge(alpha=alpha, normalize=True)\n",
    "        rm.fit(X_train,y_train)\n",
    "        pred = rm.predict(X_test)\n",
    "        mse.append(metrics.mean_squared_error(y_test,pred))\n",
    "    return np.mean(mse)"
   ]
  },
  {
   "cell_type": "code",
   "execution_count": 142,
   "metadata": {},
   "outputs": [],
   "source": [
    "mse = []\n",
    "for alpha in (10**(np.linspace(0,6,100)))**(-1):\n",
    "    mse.append([alpha,ridge_cv(alpha,college.drop(['Apps'],axis=1),college['Apps'],5)])\n",
    "mse = pd.DataFrame(mse,columns=['alpha','mse'])"
   ]
  },
  {
   "cell_type": "code",
   "execution_count": 151,
   "metadata": {},
   "outputs": [
    {
     "name": "stdout",
     "output_type": "stream",
     "text": [
      "the lowst mse is 323438.0140124246\n",
      "the lowst rmse is 568.716110210028\n"
     ]
    },
    {
     "data": {
      "image/png": "[encoded data removed]",
      "text/plain": [
       "<Figure size 432x288 with 1 Axes>"
      ]
     },
     "metadata": {
      "needs_background": "light"
     },
     "output_type": "display_data"
    }
   ],
   "source": [
    "#print(mse)\n",
    "plt.scatter(x=mse['alpha'],y=mse['mse'])\n",
    "print('the lowst mse is {}'.format(ridge_cv(0.1,college.drop(['Apps'],axis=1),college['Apps'],5)))\n",
    "print('the lowst rmse is {}'.format(np.sqrt(ridge_cv(0.1,college.drop(['Apps'],axis=1),college['Apps'],5))))"
   ]
  },
  {
   "cell_type": "code",
   "execution_count": 160,
   "metadata": {},
   "outputs": [
    {
     "name": "stdout",
     "output_type": "stream",
     "text": [
      "       variable coefficient\n",
      "0       Private    -618.394\n",
      "1        Accept     1.32295\n",
      "2        Enroll   -0.705586\n",
      "3     Top10perc     41.8825\n",
      "4     Top25perc    -10.2464\n",
      "5   F.Undergrad    0.102292\n",
      "6   P.Undergrad   0.0252067\n",
      "7      Outstate  -0.0593363\n",
      "8    Room.Board    0.273835\n",
      "9         Books   0.0451096\n",
      "10     Personal   0.0759682\n",
      "11          PhD    -2.48482\n",
      "12     Terminal    -4.01459\n",
      "13    S.F.Ratio      2.2244\n",
      "14  perc.alumni    -8.73709\n",
      "15       Expend   0.0517115\n",
      "16    Grad.Rate     9.50877\n",
      "the chosen lambda is 0.0032, the mse is 1600849.1205,the rmse is 1265.2467, \n"
     ]
    }
   ],
   "source": [
    "ridgeCV = RidgeCV(normalize=True,alphas=alphas)\n",
    "ridgeCV.fit(X_train,y_train)\n",
    "#print(ridgeCV.get_params())\n",
    "\n",
    "ridge_results=pd.DataFrame(np.c_[X_train.columns,ridgeCV.coef_],columns=['variable','coefficient'])\n",
    "print(ridge_results)\n",
    "\n",
    "pred = ridgeCV.predict(X_test)\n",
    "mse = metrics.mean_squared_error(y_test,pred)\n",
    "rmse = np.sqrt(mse)\n",
    "print(\"the chosen lambda is {0:0.4f}, the mse is {1:0.4f},the rmse is {2:0.4f}, \".format(ridgeCV.alpha_,mse,rmse))"
   ]
  },
  {
   "cell_type": "markdown",
   "metadata": {},
   "source": [
    "(d) Fit a lasso model on the training set, with λ chosen by crossvalidation.\n",
    "Report the test error obtained, along with the number\n",
    "of non-zero coefficient estimates."
   ]
  },
  {
   "cell_type": "code",
   "execution_count": 163,
   "metadata": {
    "scrolled": true
   },
   "outputs": [
    {
     "name": "stdout",
     "output_type": "stream",
     "text": [
      "364004.22129842255\n"
     ]
    }
   ],
   "source": [
    "def lasso_cv(alpha, X, y, k):\n",
    "    rec = np.linspace(0,X.shape[1],k,dtype=int)\n",
    "    folds = [[rec[n],rec[n+1]] for n in np.arange(k-1)]\n",
    "    mse=[]\n",
    "    for f in folds:\n",
    "        X_test = X.iloc[f[0]:f[1]]\n",
    "        X_train = X.drop(X.index[f[0]:f[1]])\n",
    "        y_test = y.iloc[f[0]:f[1]]\n",
    "        y_train = y.drop(y.index[f[0]:f[1]])\n",
    "        rm = Lasso(alpha=alpha, normalize=True)\n",
    "        rm.fit(X_train,y_train)\n",
    "        pred = rm.predict(X_test)\n",
    "        mse.append(metrics.mean_squared_error(y_test,pred))\n",
    "    return np.mean(mse)\n",
    "\n",
    "print(lasso_cv(0.1,college.drop(['Apps'],axis=1),college['Apps'],5))        "
   ]
  },
  {
   "cell_type": "code",
   "execution_count": 165,
   "metadata": {
    "scrolled": true
   },
   "outputs": [
    {
     "name": "stdout",
     "output_type": "stream",
     "text": [
      "        alpha            mse\n",
      "0    0.001000  371537.566066\n",
      "1    0.001624  371479.546837\n",
      "2    0.002637  371385.594020\n",
      "3    0.004281  371225.940470\n",
      "4    0.006952  370953.581746\n",
      "5    0.011288  370512.941637\n",
      "6    0.018330  369808.729494\n",
      "7    0.029764  368730.232680\n",
      "8    0.048329  367310.814577\n",
      "9    0.078476  365342.744736\n",
      "10   0.127427  362371.141123\n",
      "11   0.206914  357922.803955\n",
      "12   0.335982  351681.381952\n",
      "13   0.545559  347391.774135\n",
      "14   0.885867  345274.134510\n",
      "15   1.438450  339192.916029\n",
      "16   2.335721  350814.595524\n",
      "17   3.792690  350525.251349\n",
      "18   6.158482  363003.217300\n",
      "19  10.000000  374645.716183\n"
     ]
    },
    {
     "data": {
      "text/plain": [
       "<matplotlib.axes._subplots.AxesSubplot at 0x1c26cd22e8>"
      ]
     },
     "execution_count": 165,
     "metadata": {},
     "output_type": "execute_result"
    },
    {
     "data": {
      "image/png": "[encoded data removed]",
      "text/plain": [
       "<Figure size 432x288 with 1 Axes>"
      ]
     },
     "metadata": {
      "needs_background": "light"
     },
     "output_type": "display_data"
    }
   ],
   "source": [
    "alphas=10**np.linspace(-3,1,20)\n",
    "mse=[]\n",
    "for a in alphas:\n",
    "    mse.append([a,lasso_cv(a,college.drop(['Apps'],axis=1),college['Apps'],5)])\n",
    "\n",
    "    \n",
    "mse_df = pd.DataFrame(mse,columns = ['alpha','mse'])    \n",
    "print(mse_df) \n",
    "sns.lineplot(x = mse_df['alpha'],y = mse_df['mse'])"
   ]
  },
  {
   "cell_type": "code",
   "execution_count": 169,
   "metadata": {},
   "outputs": [
    {
     "name": "stdout",
     "output_type": "stream",
     "text": [
      "1732850.6078417338\n",
      "the rmse is 1316.3778362771586\n",
      "       variable coefficient\n",
      "0       Private    -559.483\n",
      "1        Accept     1.22734\n",
      "2        Enroll          -0\n",
      "3     Top10perc     27.5226\n",
      "4     Top25perc          -0\n",
      "5   F.Undergrad  0.00870371\n",
      "6   P.Undergrad   0.0320932\n",
      "7      Outstate  -0.0281151\n",
      "8    Room.Board    0.214308\n",
      "9         Books           0\n",
      "10     Personal   0.0204909\n",
      "11          PhD          -0\n",
      "12     Terminal    -1.58169\n",
      "13    S.F.Ratio           0\n",
      "14  perc.alumni    -9.15115\n",
      "15       Expend   0.0400632\n",
      "16    Grad.Rate     5.34158\n"
     ]
    }
   ],
   "source": [
    "lasso_best = Lasso(max_iter = 10000, normalize = True)\n",
    "lasso_best.set_params(alpha = 1.5)\n",
    "lasso_best.fit(X_train,y_train)\n",
    "\n",
    "pred = lasso_best.predict(X_test)\n",
    "print(metrics.mean_squared_error(y_test,pred))\n",
    "print('the rmse is {}'.format(np.sqrt(metrics.mean_squared_error(y_test,pred))))\n",
    "\n",
    "\n",
    "lasso_results=pd.DataFrame(np.c_[college.drop(['Apps'],axis=1).columns,lasso_best.coef_],columns=['variable','coefficient'])\n",
    "print(lasso_results)"
   ]
  },
  {
   "cell_type": "code",
   "execution_count": 220,
   "metadata": {},
   "outputs": [
    {
     "name": "stdout",
     "output_type": "stream",
     "text": [
      "       variable  coefficient     variable  coefficient\n",
      "0       Private  -767.879695      Private  -357.240352\n",
      "1        Accept     1.095505       Accept     1.394018\n",
      "2        Enroll     0.315133       Enroll    -0.000000\n",
      "3     Top10perc    55.172602    Top10perc    28.452240\n",
      "4     Top25perc   -14.571498    Top25perc    -0.000000\n",
      "5   F.Undergrad     0.044544  F.Undergrad    -0.000000\n",
      "6   P.Undergrad    -0.052121  P.Undergrad     0.000000\n",
      "7      Outstate    -0.046914     Outstate    -0.038492\n",
      "8    Room.Board     0.254205   Room.Board     0.100573\n",
      "9         Books     0.174463        Books     0.000000\n",
      "10     Personal    -0.080789     Personal     0.000000\n",
      "11          PhD    -3.993597          PhD    -3.499813\n",
      "12     Terminal    -6.720735     Terminal    -2.728283\n",
      "13    S.F.Ratio   -14.059730    S.F.Ratio     0.000000\n",
      "14  perc.alumni   -11.962541  perc.alumni    -0.735669\n",
      "15       Expend     0.042297       Expend     0.062284\n",
      "16    Grad.Rate    11.179702    Grad.Rate     3.200387\n"
     ]
    }
   ],
   "source": [
    "#Compare the results between lasso and ridge\n",
    "dfs = [ridge_results, lasso_results]\n",
    "nan_value = 0\n",
    "\n",
    "result_1 = pd.concat(dfs, join='outer', axis=1).fillna(nan_value)\n",
    "print(result_1)"
   ]
  },
  {
   "cell_type": "markdown",
   "metadata": {},
   "source": [
    "(e) Fit a PCR model on the training set, with M chosen by crossvalidation.\n",
    "Report the test error obtained, along with the value\n",
    "of M selected by cross-validation."
   ]
  },
  {
   "cell_type": "code",
   "execution_count": 94,
   "metadata": {},
   "outputs": [
    {
     "name": "stdout",
     "output_type": "stream",
     "text": [
      "(388, 17) (388, 17) [[ 4.85225698e+00  2.62223463e-01 -3.67041070e-03 ...  1.11162555e-01\n",
      "   3.25738523e-01 -9.57630000e-02]\n",
      " [-2.72200392e+00  1.38783073e+00 -6.75008339e-01 ...  8.47251704e-02\n",
      "  -4.76652203e-01 -2.03036865e-01]\n",
      " [-2.19220126e+00 -6.83124531e-01 -5.21337622e-01 ... -4.00748442e-03\n",
      "  -3.21631693e-02 -2.51236541e-02]\n",
      " ...\n",
      " [ 4.46518750e-02 -1.26345979e+00 -3.89525272e-01 ...  6.15731795e-02\n",
      "   1.51926305e-02 -4.52795438e-02]\n",
      " [-1.40777935e-01 -7.75868597e-01 -4.80029234e-01 ...  1.54944743e-01\n",
      "  -1.77632161e-01 -2.82425523e-02]\n",
      " [-2.36909731e-01 -6.05985889e-01  1.28277333e-01 ...  2.00436387e-01\n",
      "   2.14006795e-01 -1.62010766e-02]]\n"
     ]
    },
    {
     "name": "stderr",
     "output_type": "stream",
     "text": [
      "/anaconda3/lib/python3.7/site-packages/ipykernel_launcher.py:6: DataConversionWarning: Data with input dtype int64, float64 were all converted to float64 by the scale function.\n",
      "  \n"
     ]
    }
   ],
   "source": [
    "from sklearn.decomposition import PCA\n",
    "from sklearn.preprocessing import scale \n",
    "from sklearn import model_selection\n",
    "from sklearn.linear_model import LinearRegression\n",
    "pca = PCA()\n",
    "X_reduced = pca.fit_transform(scale(X_train))\n",
    "print(X_reduced.shape,X_train.shape,X_reduced)"
   ]
  },
  {
   "cell_type": "code",
   "execution_count": 95,
   "metadata": {
    "scrolled": true
   },
   "outputs": [
    {
     "name": "stderr",
     "output_type": "stream",
     "text": [
      "/anaconda3/lib/python3.7/site-packages/matplotlib/axes/_base.py:3215: MatplotlibDeprecationWarning: \n",
      "The `xmin` argument was deprecated in Matplotlib 3.0 and will be removed in 3.2. Use `left` instead.\n",
      "  alternative='`left`', obj_type='argument')\n"
     ]
    },
    {
     "data": {
      "image/png": "[encoded data removed]",
      "text/plain": [
       "<Figure size 432x288 with 1 Axes>"
      ]
     },
     "metadata": {
      "needs_background": "light"
     },
     "output_type": "display_data"
    }
   ],
   "source": [
    "# 10-fold CV, with shuffle\n",
    "y = y_train\n",
    "n = len(X_reduced)\n",
    "kf_10 = model_selection.KFold( n_splits=10, shuffle=True, random_state=1)\n",
    "\n",
    "regr = LinearRegression()\n",
    "mse = []\n",
    "\n",
    "# Calculate MSE with only the intercept (no principal components in regression)\n",
    "score = -1*model_selection.cross_val_score(regr, np.ones((n,1)), y.ravel(), cv=kf_10, scoring='neg_mean_squared_error').mean()    \n",
    "mse.append(score)\n",
    "\n",
    "# Calculate MSE using CV for the 19 principle components, adding one component at the time.\n",
    "for i in np.arange(1, 20):\n",
    "    score = -1*model_selection.cross_val_score(regr, X_reduced[:,:i], y.ravel(), cv=kf_10, scoring='neg_mean_squared_error').mean()\n",
    "    mse.append(score)\n",
    "    \n",
    "# Plot results    \n",
    "plt.plot(mse, '-v')\n",
    "plt.xlabel('Number of principal components in regression')\n",
    "plt.ylabel('MSE')\n",
    "plt.title('Salary')\n",
    "plt.xlim(xmin=-1);\n"
   ]
  },
  {
   "cell_type": "markdown",
   "metadata": {},
   "source": [
    "(f) Fit a PLS model on the training set, with M chosen by crossvalidation.\n",
    "Report the test error obtained, along with the value\n",
    "of M selected by cross-validation."
   ]
  },
  {
   "cell_type": "code",
   "execution_count": 98,
   "metadata": {
    "scrolled": true
   },
   "outputs": [
    {
     "name": "stderr",
     "output_type": "stream",
     "text": [
      "/anaconda3/lib/python3.7/site-packages/ipykernel_launcher.py:12: DataConversionWarning: Data with input dtype int64, float64 were all converted to float64 by the scale function.\n",
      "  if sys.path[0] == '':\n",
      "/anaconda3/lib/python3.7/site-packages/ipykernel_launcher.py:12: DataConversionWarning: Data with input dtype int64, float64 were all converted to float64 by the scale function.\n",
      "  if sys.path[0] == '':\n",
      "/anaconda3/lib/python3.7/site-packages/ipykernel_launcher.py:12: DataConversionWarning: Data with input dtype int64, float64 were all converted to float64 by the scale function.\n",
      "  if sys.path[0] == '':\n",
      "/anaconda3/lib/python3.7/site-packages/ipykernel_launcher.py:12: DataConversionWarning: Data with input dtype int64, float64 were all converted to float64 by the scale function.\n",
      "  if sys.path[0] == '':\n",
      "/anaconda3/lib/python3.7/site-packages/ipykernel_launcher.py:12: DataConversionWarning: Data with input dtype int64, float64 were all converted to float64 by the scale function.\n",
      "  if sys.path[0] == '':\n",
      "/anaconda3/lib/python3.7/site-packages/ipykernel_launcher.py:12: DataConversionWarning: Data with input dtype int64, float64 were all converted to float64 by the scale function.\n",
      "  if sys.path[0] == '':\n",
      "/anaconda3/lib/python3.7/site-packages/ipykernel_launcher.py:12: DataConversionWarning: Data with input dtype int64, float64 were all converted to float64 by the scale function.\n",
      "  if sys.path[0] == '':\n",
      "/anaconda3/lib/python3.7/site-packages/ipykernel_launcher.py:12: DataConversionWarning: Data with input dtype int64, float64 were all converted to float64 by the scale function.\n",
      "  if sys.path[0] == '':\n",
      "/anaconda3/lib/python3.7/site-packages/ipykernel_launcher.py:12: DataConversionWarning: Data with input dtype int64, float64 were all converted to float64 by the scale function.\n",
      "  if sys.path[0] == '':\n",
      "/anaconda3/lib/python3.7/site-packages/ipykernel_launcher.py:12: DataConversionWarning: Data with input dtype int64, float64 were all converted to float64 by the scale function.\n",
      "  if sys.path[0] == '':\n",
      "/anaconda3/lib/python3.7/site-packages/ipykernel_launcher.py:12: DataConversionWarning: Data with input dtype int64, float64 were all converted to float64 by the scale function.\n",
      "  if sys.path[0] == '':\n",
      "/anaconda3/lib/python3.7/site-packages/ipykernel_launcher.py:12: DataConversionWarning: Data with input dtype int64, float64 were all converted to float64 by the scale function.\n",
      "  if sys.path[0] == '':\n",
      "/anaconda3/lib/python3.7/site-packages/ipykernel_launcher.py:12: DataConversionWarning: Data with input dtype int64, float64 were all converted to float64 by the scale function.\n",
      "  if sys.path[0] == '':\n",
      "/anaconda3/lib/python3.7/site-packages/ipykernel_launcher.py:12: DataConversionWarning: Data with input dtype int64, float64 were all converted to float64 by the scale function.\n",
      "  if sys.path[0] == '':\n",
      "/anaconda3/lib/python3.7/site-packages/ipykernel_launcher.py:12: DataConversionWarning: Data with input dtype int64, float64 were all converted to float64 by the scale function.\n",
      "  if sys.path[0] == '':\n",
      "/anaconda3/lib/python3.7/site-packages/ipykernel_launcher.py:12: DataConversionWarning: Data with input dtype int64, float64 were all converted to float64 by the scale function.\n",
      "  if sys.path[0] == '':\n",
      "/anaconda3/lib/python3.7/site-packages/matplotlib/axes/_base.py:3215: MatplotlibDeprecationWarning: \n",
      "The `xmin` argument was deprecated in Matplotlib 3.0 and will be removed in 3.2. Use `left` instead.\n",
      "  alternative='`left`', obj_type='argument')\n"
     ]
    },
    {
     "data": {
      "text/plain": [
       "(-1, 16.75)"
      ]
     },
     "execution_count": 98,
     "metadata": {},
     "output_type": "execute_result"
    },
    {
     "data": {
      "image/png": "[encoded data removed]",
      "text/plain": [
       "<Figure size 432x288 with 1 Axes>"
      ]
     },
     "metadata": {
      "needs_background": "light"
     },
     "output_type": "display_data"
    }
   ],
   "source": [
    "from sklearn.cross_decomposition import PLSRegression, PLSSVD\n",
    "\n",
    "n = len(X_train)\n",
    "\n",
    "# 10-fold CV, with shuffle\n",
    "kf_10 = model_selection.KFold(n_splits=10, shuffle=True, random_state=1)\n",
    "\n",
    "mse = []\n",
    "\n",
    "for i in np.arange(1, 17):\n",
    "    pls = PLSRegression(n_components=i)\n",
    "    score = model_selection.cross_val_score(pls, scale(X_train), y_train, cv=kf_10, scoring='neg_mean_squared_error').mean()\n",
    "    mse.append(-score)\n",
    "\n",
    "# Plot results\n",
    "plt.plot(np.arange(1, 17), np.array(mse), '-v')\n",
    "plt.xlabel('Number of principal components in regression')\n",
    "plt.ylabel('MSE')\n",
    "plt.title('Salary')\n",
    "plt.xlim(xmin=-1)"
   ]
  },
  {
   "cell_type": "markdown",
   "metadata": {},
   "source": [
    "(g) Comment on the results obtained. How accurately can we predict\n",
    "the number of college applications received? Is there much\n",
    "difference among the test errors resulting from these five approaches?"
   ]
  },
  {
   "cell_type": "code",
   "execution_count": null,
   "metadata": {},
   "outputs": [],
   "source": []
  },
  {
   "cell_type": "markdown",
   "metadata": {},
   "source": [
    "## Question 10\n",
    "\n",
    "10. We have seen that as the number of features used in a model increases,\n",
    "the training error will necessarily decrease, but the test error may not.\n",
    "We will now explore this in a simulated data set."
   ]
  },
  {
   "cell_type": "markdown",
   "metadata": {},
   "source": [
    "(a) Generate a data set with p = 20 features, n = 1,000 observations,\n",
    "and an associated quantitative response vector generated\n",
    "according to the model\n",
    "\n",
    "> Y = Xβ + ϵ\n",
    "\n",
    "where β has some elements that are exactly equal to zero."
   ]
  },
  {
   "cell_type": "code",
   "execution_count": 223,
   "metadata": {},
   "outputs": [
    {
     "name": "stdout",
     "output_type": "stream",
     "text": [
      "(1000, 20)\n",
      "[ 0.29965563  0.          0.44398052  0.         -1.44534466 -0.21937014\n",
      " -0.5324188   0.41158032 -0.95270241  0.         -0.09496684 -1.45650564\n",
      "  0.25130975 -1.7101918  -0.15649875  0.         -0.28838207  0.616903\n",
      "  0.         -1.55999546]\n"
     ]
    },
    {
     "data": {
      "text/html": [
       "<div>\n",
       "<style scoped>\n",
       "    .dataframe tbody tr th:only-of-type {\n",
       "        vertical-align: middle;\n",
       "    }\n",
       "\n",
       "    .dataframe tbody tr th {\n",
       "        vertical-align: top;\n",
       "    }\n",
       "\n",
       "    .dataframe thead th {\n",
       "        text-align: right;\n",
       "    }\n",
       "</style>\n",
       "<table border=\"1\" class=\"dataframe\">\n",
       "  <thead>\n",
       "    <tr style=\"text-align: right;\">\n",
       "      <th></th>\n",
       "      <th>x1</th>\n",
       "      <th>x2</th>\n",
       "      <th>x3</th>\n",
       "      <th>x4</th>\n",
       "      <th>x5</th>\n",
       "      <th>x6</th>\n",
       "      <th>x7</th>\n",
       "      <th>x8</th>\n",
       "      <th>x9</th>\n",
       "      <th>x10</th>\n",
       "      <th>...</th>\n",
       "      <th>x12</th>\n",
       "      <th>x13</th>\n",
       "      <th>x14</th>\n",
       "      <th>x15</th>\n",
       "      <th>x16</th>\n",
       "      <th>x17</th>\n",
       "      <th>x18</th>\n",
       "      <th>x19</th>\n",
       "      <th>x20</th>\n",
       "      <th>y</th>\n",
       "    </tr>\n",
       "  </thead>\n",
       "  <tbody>\n",
       "    <tr>\n",
       "      <th>0</th>\n",
       "      <td>0.486366</td>\n",
       "      <td>0.862608</td>\n",
       "      <td>0.368073</td>\n",
       "      <td>0.346024</td>\n",
       "      <td>0.392613</td>\n",
       "      <td>0.482711</td>\n",
       "      <td>0.041422</td>\n",
       "      <td>0.119815</td>\n",
       "      <td>0.038691</td>\n",
       "      <td>0.051508</td>\n",
       "      <td>...</td>\n",
       "      <td>0.627131</td>\n",
       "      <td>0.170232</td>\n",
       "      <td>0.350450</td>\n",
       "      <td>0.202352</td>\n",
       "      <td>0.279007</td>\n",
       "      <td>0.621802</td>\n",
       "      <td>0.526848</td>\n",
       "      <td>0.845065</td>\n",
       "      <td>0.956587</td>\n",
       "      <td>-2.132457</td>\n",
       "    </tr>\n",
       "    <tr>\n",
       "      <th>1</th>\n",
       "      <td>0.999579</td>\n",
       "      <td>0.707782</td>\n",
       "      <td>0.802784</td>\n",
       "      <td>0.205669</td>\n",
       "      <td>0.336560</td>\n",
       "      <td>0.907955</td>\n",
       "      <td>0.317275</td>\n",
       "      <td>0.253394</td>\n",
       "      <td>0.046451</td>\n",
       "      <td>0.600301</td>\n",
       "      <td>...</td>\n",
       "      <td>0.952959</td>\n",
       "      <td>0.694124</td>\n",
       "      <td>0.512350</td>\n",
       "      <td>0.198450</td>\n",
       "      <td>0.836660</td>\n",
       "      <td>0.155924</td>\n",
       "      <td>0.922226</td>\n",
       "      <td>0.252259</td>\n",
       "      <td>0.798829</td>\n",
       "      <td>-3.134455</td>\n",
       "    </tr>\n",
       "    <tr>\n",
       "      <th>2</th>\n",
       "      <td>0.529945</td>\n",
       "      <td>0.522897</td>\n",
       "      <td>0.165718</td>\n",
       "      <td>0.000721</td>\n",
       "      <td>0.507074</td>\n",
       "      <td>0.074480</td>\n",
       "      <td>0.623724</td>\n",
       "      <td>0.281444</td>\n",
       "      <td>0.058290</td>\n",
       "      <td>0.280462</td>\n",
       "      <td>...</td>\n",
       "      <td>0.227531</td>\n",
       "      <td>0.310586</td>\n",
       "      <td>0.904893</td>\n",
       "      <td>0.525261</td>\n",
       "      <td>0.692215</td>\n",
       "      <td>0.681984</td>\n",
       "      <td>0.163067</td>\n",
       "      <td>0.275909</td>\n",
       "      <td>0.301024</td>\n",
       "      <td>-4.681402</td>\n",
       "    </tr>\n",
       "    <tr>\n",
       "      <th>3</th>\n",
       "      <td>0.760893</td>\n",
       "      <td>0.134159</td>\n",
       "      <td>0.780079</td>\n",
       "      <td>0.047360</td>\n",
       "      <td>0.735424</td>\n",
       "      <td>0.712769</td>\n",
       "      <td>0.468172</td>\n",
       "      <td>0.454209</td>\n",
       "      <td>0.261404</td>\n",
       "      <td>0.299572</td>\n",
       "      <td>...</td>\n",
       "      <td>0.157368</td>\n",
       "      <td>0.620453</td>\n",
       "      <td>0.018439</td>\n",
       "      <td>0.070403</td>\n",
       "      <td>0.600197</td>\n",
       "      <td>0.791067</td>\n",
       "      <td>0.061694</td>\n",
       "      <td>0.400241</td>\n",
       "      <td>0.550583</td>\n",
       "      <td>-3.674077</td>\n",
       "    </tr>\n",
       "    <tr>\n",
       "      <th>4</th>\n",
       "      <td>0.514750</td>\n",
       "      <td>0.143211</td>\n",
       "      <td>0.821142</td>\n",
       "      <td>0.787705</td>\n",
       "      <td>0.277122</td>\n",
       "      <td>0.436206</td>\n",
       "      <td>0.030242</td>\n",
       "      <td>0.883372</td>\n",
       "      <td>0.250017</td>\n",
       "      <td>0.230151</td>\n",
       "      <td>...</td>\n",
       "      <td>0.584172</td>\n",
       "      <td>0.736120</td>\n",
       "      <td>0.279303</td>\n",
       "      <td>0.191108</td>\n",
       "      <td>0.220532</td>\n",
       "      <td>0.993609</td>\n",
       "      <td>0.625884</td>\n",
       "      <td>0.770179</td>\n",
       "      <td>0.910357</td>\n",
       "      <td>-2.769262</td>\n",
       "    </tr>\n",
       "  </tbody>\n",
       "</table>\n",
       "<p>5 rows × 21 columns</p>\n",
       "</div>"
      ],
      "text/plain": [
       "         x1        x2        x3        x4        x5        x6        x7  \\\n",
       "0  0.486366  0.862608  0.368073  0.346024  0.392613  0.482711  0.041422   \n",
       "1  0.999579  0.707782  0.802784  0.205669  0.336560  0.907955  0.317275   \n",
       "2  0.529945  0.522897  0.165718  0.000721  0.507074  0.074480  0.623724   \n",
       "3  0.760893  0.134159  0.780079  0.047360  0.735424  0.712769  0.468172   \n",
       "4  0.514750  0.143211  0.821142  0.787705  0.277122  0.436206  0.030242   \n",
       "\n",
       "         x8        x9       x10    ...          x12       x13       x14  \\\n",
       "0  0.119815  0.038691  0.051508    ...     0.627131  0.170232  0.350450   \n",
       "1  0.253394  0.046451  0.600301    ...     0.952959  0.694124  0.512350   \n",
       "2  0.281444  0.058290  0.280462    ...     0.227531  0.310586  0.904893   \n",
       "3  0.454209  0.261404  0.299572    ...     0.157368  0.620453  0.018439   \n",
       "4  0.883372  0.250017  0.230151    ...     0.584172  0.736120  0.279303   \n",
       "\n",
       "        x15       x16       x17       x18       x19       x20         y  \n",
       "0  0.202352  0.279007  0.621802  0.526848  0.845065  0.956587 -2.132457  \n",
       "1  0.198450  0.836660  0.155924  0.922226  0.252259  0.798829 -3.134455  \n",
       "2  0.525261  0.692215  0.681984  0.163067  0.275909  0.301024 -4.681402  \n",
       "3  0.070403  0.600197  0.791067  0.061694  0.400241  0.550583 -3.674077  \n",
       "4  0.191108  0.220532  0.993609  0.625884  0.770179  0.910357 -2.769262  \n",
       "\n",
       "[5 rows x 21 columns]"
      ]
     },
     "execution_count": 223,
     "metadata": {},
     "output_type": "execute_result"
    }
   ],
   "source": [
    "X=pd.DataFrame(np.random.rand(1000,20))\n",
    "print(X.shape)\n",
    "beta=np.random.randn(20)\n",
    "beta[1]=0\n",
    "beta[3]=0\n",
    "beta[9]=0\n",
    "beta[15]=0\n",
    "beta[18]=0\n",
    "\n",
    "print(beta)\n",
    "\n",
    "y = pd.DataFrame(X.dot(beta)+np.random.randn(1000))\n",
    "df = pd.concat((X,y),axis=1)\n",
    "df.columns = ['x1','x2','x3','x4','x5','x6','x7','x8','x9','x10','x11','x12','x13','x14','x15','x16','x17','x18','x19','x20','y']\n",
    "df.head()"
   ]
  },
  {
   "cell_type": "markdown",
   "metadata": {},
   "source": [
    "(b) Split your data set into a training set containing 100 observations\n",
    "and a test set containing 900 observations."
   ]
  },
  {
   "cell_type": "code",
   "execution_count": 224,
   "metadata": {},
   "outputs": [
    {
     "name": "stdout",
     "output_type": "stream",
     "text": [
      "(100, 20) (100,) (900, 20) (900,)\n"
     ]
    }
   ],
   "source": [
    "from sklearn.model_selection import train_test_split\n",
    "\n",
    "X_train,X_test,y_train,y_test = train_test_split(df.drop(['y'],axis=1),df['y'],train_size=100)\n",
    "print(X_train.shape,y_train.shape,X_test.shape,y_test.shape)"
   ]
  },
  {
   "cell_type": "markdown",
   "metadata": {},
   "source": [
    "(c) Perform best subset selection on the training set, and plot the\n",
    "training set MSE associated with the best model of each size."
   ]
  },
  {
   "cell_type": "code",
   "execution_count": 226,
   "metadata": {},
   "outputs": [
    {
     "name": "stdout",
     "output_type": "stream",
     "text": [
      "0.9832780343811425\n"
     ]
    }
   ],
   "source": [
    "def subset_reg(X_train,y_train,X_test,y_test,k):\n",
    "    X_combos = itertools.combinations(list(X_train.columns), k)\n",
    "    min_mse_train = 9999999\n",
    "    min_mse_test = 99999999\n",
    "    \n",
    "    for combo in X_combos:\n",
    "        X_train_new = X_train[list(combo)]\n",
    "        X_test_new = X_test[list(combo)]        \n",
    "        model = sm.OLS(y_train,sm.add_constant(X_train_new)).fit()        \n",
    "        pred = model.predict(sm.add_constant(X_test_new))       \n",
    "        mse_test = ((y_test-pred)**2).mean()\n",
    "        pred_train = model.predict(sm.add_constant(X_train_new))\n",
    "        mse_train = ((y_train-pred_train)**2).mean()\n",
    "        \n",
    "        if mse_test < min_mse_test:\n",
    "            min_mse_test = mse_test\n",
    "            best_model_test = model\n",
    "            \n",
    "        if mse_train < min_mse_train:\n",
    "            min_mse_train = mse_train\n",
    "            best_model_train = model\n",
    "\n",
    "            \n",
    "    return {'min mse train':min_mse_train,\n",
    "            'best model train':best_model_train,\n",
    "            'min mse test':min_mse_test,\n",
    "            'best model test':best_model_test\n",
    "           }\n",
    "\n",
    "\n",
    "\n",
    "print(subset_reg(X_train,y_train,X_test,y_test,5)['min mse train'])"
   ]
  },
  {
   "cell_type": "code",
   "execution_count": null,
   "metadata": {},
   "outputs": [],
   "source": [
    "mse_train=[]\n",
    "mse_test=[]\n",
    "for i in range(1,21,1):\n",
    "    mse_train.append([i,subset_reg(X_train,y_train,X_test,y_test,i)['min mse train']])\n",
    "    mse_test.append([i,subset_reg(X_train,y_train,X_test,y_test,i)['min mse test']])\n",
    "\n",
    "df_mse_train=pd.DataFrame(mse_train,columns=['size','mse'])\n",
    "df_mse_test=pd.DataFrame(mse_test,columns=['size','mse'])"
   ]
  },
  {
   "cell_type": "markdown",
   "metadata": {},
   "source": [
    "(d) Plot the test set MSE associated with the best model of each\n",
    "size."
   ]
  },
  {
   "cell_type": "code",
   "execution_count": null,
   "metadata": {},
   "outputs": [],
   "source": [
    "sns.lineplot(x = mse_train['size'], y = mse_train['mse'])\n",
    "plt.show()\n",
    "\n",
    "sns.lineplot(x = mse_test['size'], y = mse_test['mse'])\n",
    "plt.show()\n"
   ]
  },
  {
   "cell_type": "markdown",
   "metadata": {},
   "source": [
    "## Questions 11"
   ]
  },
  {
   "cell_type": "code",
   "execution_count": null,
   "metadata": {},
   "outputs": [],
   "source": []
  }
 ],
 "metadata": {
  "kernelspec": {
   "display_name": "Python 3",
   "language": "python",
   "name": "python3"
  },
  "language_info": {
   "codemirror_mode": {
    "name": "ipython",
    "version": 3
   },
   "file_extension": ".py",
   "mimetype": "text/x-python",
   "name": "python",
   "nbconvert_exporter": "python",
   "pygments_lexer": "ipython3",
   "version": "3.7.1"
  }
 },
 "nbformat": 4,
 "nbformat_minor": 2
}
